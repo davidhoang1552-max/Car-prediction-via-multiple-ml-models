{
  "cells": [
    {
      "cell_type": "code",
      "execution_count": 1,
      "metadata": {
        "colab": {
          "base_uri": "https://localhost:8080/"
        },
        "id": "zaIiVD_nlfl8",
        "outputId": "b09e7d63-308b-47f9-dc51-d97ee5f1779f"
      },
      "outputs": [
        {
          "output_type": "stream",
          "name": "stdout",
          "text": [
            "Collecting catboost\n",
            "  Downloading catboost-1.2.8-cp312-cp312-manylinux2014_x86_64.whl.metadata (1.2 kB)\n",
            "Requirement already satisfied: graphviz in /usr/local/lib/python3.12/dist-packages (from catboost) (0.21)\n",
            "Requirement already satisfied: matplotlib in /usr/local/lib/python3.12/dist-packages (from catboost) (3.10.0)\n",
            "Requirement already satisfied: numpy<3.0,>=1.16.0 in /usr/local/lib/python3.12/dist-packages (from catboost) (2.0.2)\n",
            "Requirement already satisfied: pandas>=0.24 in /usr/local/lib/python3.12/dist-packages (from catboost) (2.2.2)\n",
            "Requirement already satisfied: scipy in /usr/local/lib/python3.12/dist-packages (from catboost) (1.16.1)\n",
            "Requirement already satisfied: plotly in /usr/local/lib/python3.12/dist-packages (from catboost) (5.24.1)\n",
            "Requirement already satisfied: six in /usr/local/lib/python3.12/dist-packages (from catboost) (1.17.0)\n",
            "Requirement already satisfied: python-dateutil>=2.8.2 in /usr/local/lib/python3.12/dist-packages (from pandas>=0.24->catboost) (2.9.0.post0)\n",
            "Requirement already satisfied: pytz>=2020.1 in /usr/local/lib/python3.12/dist-packages (from pandas>=0.24->catboost) (2025.2)\n",
            "Requirement already satisfied: tzdata>=2022.7 in /usr/local/lib/python3.12/dist-packages (from pandas>=0.24->catboost) (2025.2)\n",
            "Requirement already satisfied: contourpy>=1.0.1 in /usr/local/lib/python3.12/dist-packages (from matplotlib->catboost) (1.3.3)\n",
            "Requirement already satisfied: cycler>=0.10 in /usr/local/lib/python3.12/dist-packages (from matplotlib->catboost) (0.12.1)\n",
            "Requirement already satisfied: fonttools>=4.22.0 in /usr/local/lib/python3.12/dist-packages (from matplotlib->catboost) (4.59.2)\n",
            "Requirement already satisfied: kiwisolver>=1.3.1 in /usr/local/lib/python3.12/dist-packages (from matplotlib->catboost) (1.4.9)\n",
            "Requirement already satisfied: packaging>=20.0 in /usr/local/lib/python3.12/dist-packages (from matplotlib->catboost) (25.0)\n",
            "Requirement already satisfied: pillow>=8 in /usr/local/lib/python3.12/dist-packages (from matplotlib->catboost) (11.3.0)\n",
            "Requirement already satisfied: pyparsing>=2.3.1 in /usr/local/lib/python3.12/dist-packages (from matplotlib->catboost) (3.2.3)\n",
            "Requirement already satisfied: tenacity>=6.2.0 in /usr/local/lib/python3.12/dist-packages (from plotly->catboost) (8.5.0)\n",
            "Downloading catboost-1.2.8-cp312-cp312-manylinux2014_x86_64.whl (99.2 MB)\n",
            "\u001b[2K   \u001b[90m━━━━━━━━━━━━━━━━━━━━━━━━━━━━━━━━━━━━━━━━\u001b[0m \u001b[32m99.2/99.2 MB\u001b[0m \u001b[31m8.6 MB/s\u001b[0m eta \u001b[36m0:00:00\u001b[0m\n",
            "\u001b[?25hInstalling collected packages: catboost\n",
            "Successfully installed catboost-1.2.8\n"
          ]
        }
      ],
      "source": [
        "!pip install --upgrade catboost"
      ]
    },
    {
      "cell_type": "code",
      "execution_count": 2,
      "metadata": {
        "colab": {
          "base_uri": "https://localhost:8080/",
          "height": 356
        },
        "id": "0GcmpiH7lk7Q",
        "outputId": "25ea6213-0aff-4ec8-adad-d3d8b9959c35"
      },
      "outputs": [
        {
          "output_type": "error",
          "ename": "MessageError",
          "evalue": "Error: credential propagation was unsuccessful",
          "traceback": [
            "\u001b[0;31m---------------------------------------------------------------------------\u001b[0m",
            "\u001b[0;31mMessageError\u001b[0m                              Traceback (most recent call last)",
            "\u001b[0;32m/tmp/ipython-input-3969687908.py\u001b[0m in \u001b[0;36m<cell line: 0>\u001b[0;34m()\u001b[0m\n\u001b[1;32m     22\u001b[0m \u001b[0;32mimport\u001b[0m \u001b[0mwarnings\u001b[0m\u001b[0;34m\u001b[0m\u001b[0;34m\u001b[0m\u001b[0m\n\u001b[1;32m     23\u001b[0m \u001b[0;32mfrom\u001b[0m \u001b[0mgoogle\u001b[0m\u001b[0;34m.\u001b[0m\u001b[0mcolab\u001b[0m \u001b[0;32mimport\u001b[0m \u001b[0mdrive\u001b[0m\u001b[0;34m\u001b[0m\u001b[0;34m\u001b[0m\u001b[0m\n\u001b[0;32m---> 24\u001b[0;31m \u001b[0mdrive\u001b[0m\u001b[0;34m.\u001b[0m\u001b[0mmount\u001b[0m\u001b[0;34m(\u001b[0m\u001b[0;34m'/content/drive'\u001b[0m\u001b[0;34m)\u001b[0m\u001b[0;34m\u001b[0m\u001b[0;34m\u001b[0m\u001b[0m\n\u001b[0m\u001b[1;32m     25\u001b[0m \u001b[0;34m\u001b[0m\u001b[0m\n\u001b[1;32m     26\u001b[0m \u001b[0mpath\u001b[0m \u001b[0;34m=\u001b[0m \u001b[0mkagglehub\u001b[0m\u001b[0;34m.\u001b[0m\u001b[0mdataset_download\u001b[0m\u001b[0;34m(\u001b[0m\u001b[0;34m\"syedanwarafridi/vehicle-sales-data\"\u001b[0m\u001b[0;34m)\u001b[0m\u001b[0;34m\u001b[0m\u001b[0;34m\u001b[0m\u001b[0m\n",
            "\u001b[0;32m/usr/local/lib/python3.12/dist-packages/google/colab/drive.py\u001b[0m in \u001b[0;36mmount\u001b[0;34m(mountpoint, force_remount, timeout_ms, readonly)\u001b[0m\n\u001b[1;32m     95\u001b[0m \u001b[0;32mdef\u001b[0m \u001b[0mmount\u001b[0m\u001b[0;34m(\u001b[0m\u001b[0mmountpoint\u001b[0m\u001b[0;34m,\u001b[0m \u001b[0mforce_remount\u001b[0m\u001b[0;34m=\u001b[0m\u001b[0;32mFalse\u001b[0m\u001b[0;34m,\u001b[0m \u001b[0mtimeout_ms\u001b[0m\u001b[0;34m=\u001b[0m\u001b[0;36m120000\u001b[0m\u001b[0;34m,\u001b[0m \u001b[0mreadonly\u001b[0m\u001b[0;34m=\u001b[0m\u001b[0;32mFalse\u001b[0m\u001b[0;34m)\u001b[0m\u001b[0;34m:\u001b[0m\u001b[0;34m\u001b[0m\u001b[0;34m\u001b[0m\u001b[0m\n\u001b[1;32m     96\u001b[0m   \u001b[0;34m\"\"\"Mount your Google Drive at the specified mountpoint path.\"\"\"\u001b[0m\u001b[0;34m\u001b[0m\u001b[0;34m\u001b[0m\u001b[0m\n\u001b[0;32m---> 97\u001b[0;31m   return _mount(\n\u001b[0m\u001b[1;32m     98\u001b[0m       \u001b[0mmountpoint\u001b[0m\u001b[0;34m,\u001b[0m\u001b[0;34m\u001b[0m\u001b[0;34m\u001b[0m\u001b[0m\n\u001b[1;32m     99\u001b[0m       \u001b[0mforce_remount\u001b[0m\u001b[0;34m=\u001b[0m\u001b[0mforce_remount\u001b[0m\u001b[0;34m,\u001b[0m\u001b[0;34m\u001b[0m\u001b[0;34m\u001b[0m\u001b[0m\n",
            "\u001b[0;32m/usr/local/lib/python3.12/dist-packages/google/colab/drive.py\u001b[0m in \u001b[0;36m_mount\u001b[0;34m(mountpoint, force_remount, timeout_ms, ephemeral, readonly)\u001b[0m\n\u001b[1;32m    132\u001b[0m   )\n\u001b[1;32m    133\u001b[0m   \u001b[0;32mif\u001b[0m \u001b[0mephemeral\u001b[0m\u001b[0;34m:\u001b[0m\u001b[0;34m\u001b[0m\u001b[0;34m\u001b[0m\u001b[0m\n\u001b[0;32m--> 134\u001b[0;31m     _message.blocking_request(\n\u001b[0m\u001b[1;32m    135\u001b[0m         \u001b[0;34m'request_auth'\u001b[0m\u001b[0;34m,\u001b[0m\u001b[0;34m\u001b[0m\u001b[0;34m\u001b[0m\u001b[0m\n\u001b[1;32m    136\u001b[0m         \u001b[0mrequest\u001b[0m\u001b[0;34m=\u001b[0m\u001b[0;34m{\u001b[0m\u001b[0;34m'authType'\u001b[0m\u001b[0;34m:\u001b[0m \u001b[0;34m'dfs_ephemeral'\u001b[0m\u001b[0;34m}\u001b[0m\u001b[0;34m,\u001b[0m\u001b[0;34m\u001b[0m\u001b[0;34m\u001b[0m\u001b[0m\n",
            "\u001b[0;32m/usr/local/lib/python3.12/dist-packages/google/colab/_message.py\u001b[0m in \u001b[0;36mblocking_request\u001b[0;34m(request_type, request, timeout_sec, parent)\u001b[0m\n\u001b[1;32m    174\u001b[0m       \u001b[0mrequest_type\u001b[0m\u001b[0;34m,\u001b[0m \u001b[0mrequest\u001b[0m\u001b[0;34m,\u001b[0m \u001b[0mparent\u001b[0m\u001b[0;34m=\u001b[0m\u001b[0mparent\u001b[0m\u001b[0;34m,\u001b[0m \u001b[0mexpect_reply\u001b[0m\u001b[0;34m=\u001b[0m\u001b[0;32mTrue\u001b[0m\u001b[0;34m\u001b[0m\u001b[0;34m\u001b[0m\u001b[0m\n\u001b[1;32m    175\u001b[0m   )\n\u001b[0;32m--> 176\u001b[0;31m   \u001b[0;32mreturn\u001b[0m \u001b[0mread_reply_from_input\u001b[0m\u001b[0;34m(\u001b[0m\u001b[0mrequest_id\u001b[0m\u001b[0;34m,\u001b[0m \u001b[0mtimeout_sec\u001b[0m\u001b[0;34m)\u001b[0m\u001b[0;34m\u001b[0m\u001b[0;34m\u001b[0m\u001b[0m\n\u001b[0m",
            "\u001b[0;32m/usr/local/lib/python3.12/dist-packages/google/colab/_message.py\u001b[0m in \u001b[0;36mread_reply_from_input\u001b[0;34m(message_id, timeout_sec)\u001b[0m\n\u001b[1;32m    101\u001b[0m     ):\n\u001b[1;32m    102\u001b[0m       \u001b[0;32mif\u001b[0m \u001b[0;34m'error'\u001b[0m \u001b[0;32min\u001b[0m \u001b[0mreply\u001b[0m\u001b[0;34m:\u001b[0m\u001b[0;34m\u001b[0m\u001b[0;34m\u001b[0m\u001b[0m\n\u001b[0;32m--> 103\u001b[0;31m         \u001b[0;32mraise\u001b[0m \u001b[0mMessageError\u001b[0m\u001b[0;34m(\u001b[0m\u001b[0mreply\u001b[0m\u001b[0;34m[\u001b[0m\u001b[0;34m'error'\u001b[0m\u001b[0;34m]\u001b[0m\u001b[0;34m)\u001b[0m\u001b[0;34m\u001b[0m\u001b[0;34m\u001b[0m\u001b[0m\n\u001b[0m\u001b[1;32m    104\u001b[0m       \u001b[0;32mreturn\u001b[0m \u001b[0mreply\u001b[0m\u001b[0;34m.\u001b[0m\u001b[0mget\u001b[0m\u001b[0;34m(\u001b[0m\u001b[0;34m'data'\u001b[0m\u001b[0;34m,\u001b[0m \u001b[0;32mNone\u001b[0m\u001b[0;34m)\u001b[0m\u001b[0;34m\u001b[0m\u001b[0;34m\u001b[0m\u001b[0m\n\u001b[1;32m    105\u001b[0m \u001b[0;34m\u001b[0m\u001b[0m\n",
            "\u001b[0;31mMessageError\u001b[0m: Error: credential propagation was unsuccessful"
          ]
        }
      ],
      "source": [
        "#Import req for the ml stuff\n",
        "import pandas as pd\n",
        "import matplotlib.pyplot as plt\n",
        "import seaborn as sns\n",
        "import numpy as n\n",
        "import kagglehub\n",
        "from sklearn.preprocessing import MinMaxScaler\n",
        "from sklearn.model_selection import train_test_split\n",
        "from sklearn.linear_model import LinearRegression\n",
        "from sklearn.metrics import mean_squared_error, r2_score\n",
        "from sklearn.preprocessing import OneHotEncoder\n",
        "from sklearn.compose import ColumnTransformer\n",
        "from sklearn.pipeline import Pipeline\n",
        "from sklearn.tree import DecisionTreeRegressor\n",
        "from sklearn.preprocessing import StandardScaler\n",
        "from sklearn.pipeline import make_pipeline\n",
        "from sklearn.svm import SVR\n",
        "from sklearn.ensemble import RandomForestRegressor\n",
        "from sklearn.ensemble import GradientBoostingRegressor\n",
        "from catboost import CatBoostRegressor\n",
        "from xgboost import XGBRegressor\n",
        "import warnings\n",
        "from google.colab import drive\n",
        "drive.mount('/content/drive')\n",
        "\n",
        "path = kagglehub.dataset_download(\"syedanwarafridi/vehicle-sales-data\")\n",
        "\n",
        "print(\"Path to dataset files:\", path)"
      ]
    },
    {
      "cell_type": "code",
      "execution_count": null,
      "metadata": {
        "id": "U7dHPs6kmGcf"
      },
      "outputs": [],
      "source": [
        "file_path = \"/kaggle/input/vehicle-sales-data/car_prices.csv\"\n",
        "car_prices = pd.read_csv(file_path)\n",
        "car_prices.head(10)"
      ]
    },
    {
      "cell_type": "code",
      "execution_count": null,
      "metadata": {
        "id": "4m4rAiLTmvwn"
      },
      "outputs": [],
      "source": [
        "car_prices.info()"
      ]
    },
    {
      "cell_type": "code",
      "execution_count": null,
      "metadata": {
        "id": "gCqvqag0o9Nw"
      },
      "outputs": [],
      "source": [
        "#Imputing data :D\n",
        "data = pd.read_csv('/kaggle/input/vehicle-sales-data/car_prices.csv')\n",
        "data.info()\n",
        "\n",
        "data.loc[:,'make'] = data.loc[:,['make']].fillna(data['make'].mode()[0])\n",
        "data.loc[:,'model'] = data.loc[:,['model']].fillna(data['model'].mode()[0])\n",
        "data.loc[:,'body'] = data.loc[:,['body']].fillna(data['body'].mode()[0])\n",
        "data.loc[:,'trim'] = data.loc[:,['trim']].fillna(data['trim'].mode()[0])\n",
        "data.loc[:,'color'] = data.loc[:,['color']].fillna(data['color'].mode()[0])\n",
        "data.loc[:,'interior'] = data.loc[:,['interior']].fillna(data['interior'].mode()[0])\n",
        "data.loc[:,'transmission'] = data.loc[:,['transmission']].fillna(data['transmission'].mode()[0])\n",
        "\n",
        "data.loc[:,'condition'] = data.loc[:,['condition']].fillna(data['condition'].mean())\n",
        "data.loc[:,'odometer'] = data.loc[:,['odometer']].fillna(data['odometer'].mean())\n",
        "data.loc[:,'mmr'] = data.loc[:,['mmr']].fillna(data['mmr'].mean())\n",
        "\n",
        "data.dropna(subset=['sellingprice'],axis='rows',inplace=True)"
      ]
    },
    {
      "cell_type": "markdown",
      "metadata": {
        "id": "RT5CGrJrpmi6"
      },
      "source": [
        "###Viewing Data"
      ]
    },
    {
      "cell_type": "code",
      "execution_count": null,
      "metadata": {
        "id": "ZP80nUwMp_PR"
      },
      "outputs": [],
      "source": [
        "car_prices.describe().round().T  #transposed data"
      ]
    },
    {
      "cell_type": "code",
      "execution_count": null,
      "metadata": {
        "id": "5Jlf2Vt7qAZD"
      },
      "outputs": [],
      "source": [
        "car_prices.shape"
      ]
    },
    {
      "cell_type": "code",
      "execution_count": null,
      "metadata": {
        "id": "fMGvhzbiqIbS"
      },
      "outputs": [],
      "source": [
        "car_prices.isna().sum()"
      ]
    },
    {
      "cell_type": "code",
      "execution_count": null,
      "metadata": {
        "id": "EC6OZGSeqQCe"
      },
      "outputs": [],
      "source": [
        "car_prices.count()"
      ]
    },
    {
      "cell_type": "markdown",
      "metadata": {
        "id": "nXANa5Jxqw3S"
      },
      "source": [
        "###Data cleaning"
      ]
    },
    {
      "cell_type": "code",
      "execution_count": null,
      "metadata": {
        "id": "B2Sdi4DJq8hR"
      },
      "outputs": [],
      "source": [
        "car_prices.dropna(inplace=True)"
      ]
    },
    {
      "cell_type": "code",
      "execution_count": null,
      "metadata": {
        "id": "hqG7XNrcq-08"
      },
      "outputs": [],
      "source": [
        "car_prices.isna().sum()"
      ]
    },
    {
      "cell_type": "markdown",
      "metadata": {
        "id": "V3JaBsqdrp7o"
      },
      "source": [
        "###Visualization"
      ]
    },
    {
      "cell_type": "code",
      "execution_count": null,
      "metadata": {
        "id": "Yw7wcUnerAvC"
      },
      "outputs": [],
      "source": [
        "sns.scatterplot(car_prices, x=\"odometer\", y=\"sellingprice\", color=\"#358D0C\", s=20)\n",
        "plt.xlabel(\"Odometer (km)\")\n",
        "plt.ylabel(\"Selling Price\")\n",
        "plt.title(\"Selling Price vs. Odometer Reading\")\n",
        "plt.grid(True)\n",
        "\n",
        "plt.show()\n",
        "\n",
        "sns.scatterplot(car_prices, x=\"mmr\", y=\"sellingprice\", color=\"#0B8FB9\", s=20)\n",
        "plt.xlabel(\"MMR\")\n",
        "plt.ylabel(\"Selling Price\")\n",
        "plt.title(\"Selling Price vs. MMR\")\n",
        "plt.grid(True)\n",
        "\n",
        "plt.show()"
      ]
    },
    {
      "cell_type": "code",
      "execution_count": null,
      "metadata": {
        "id": "hM75ZaE0r-S8"
      },
      "outputs": [],
      "source": [
        "#plot for condition of the car to price :)))\n",
        "sns.relplot(\n",
        "    x=\"condition\",\n",
        "    y=\"sellingprice\",\n",
        "    color=\"#0000FF\",\n",
        "    kind=\"line\",\n",
        "    data=car_prices,\n",
        "    linewidth=2,\n",
        "    marker=\"o\",\n",
        "    markersize=8,\n",
        "    alpha=0.7,\n",
        "    dashes=False,\n",
        "    legend=\"full\",\n",
        "    markerfacecolor=\"#FF0000\",\n",
        ")\n",
        "\n",
        "plt.xlabel(\"Condition\")\n",
        "plt.ylabel(\"Selling Price\")\n",
        "plt.title(\"Selling Price vs. Condition\")\n",
        "\n",
        "\n",
        "plt.show()"
      ]
    },
    {
      "cell_type": "code",
      "execution_count": null,
      "metadata": {
        "id": "QhYdqxe1s00J"
      },
      "outputs": [],
      "source": [
        "year_df = car_prices.groupby(by=\"year\", as_index=False)[\"sellingprice\"].first()\n",
        "fig = sns.barplot(year_df, x=\"year\", y=\"sellingprice\", palette=\"Blues\")\n",
        "plt.xticks(rotation=90)\n",
        "plt.show()"
      ]
    },
    {
      "cell_type": "code",
      "execution_count": null,
      "metadata": {
        "id": "5ZEA8UhCt2GM"
      },
      "outputs": [],
      "source": [
        "new_df = car_prices.groupby(\n",
        "    by=[\"year\", \"make\", \"transmission\", \"condition\", \"color\", \"odometer\", \"mmr\"],\n",
        "    as_index=False,\n",
        ")[\"sellingprice\"].first()\n",
        "\n",
        "\n",
        "new_df.sort_values(by=\"sellingprice\", ascending=False).head(2)\n",
        "\n",
        "yearly_mean_price = (\n",
        "    new_df.groupby(\"year\", as_index=False)[\"sellingprice\"].mean()\n",
        ").round(2)\n",
        "yearly_mean_price"
      ]
    },
    {
      "cell_type": "code",
      "execution_count": null,
      "metadata": {
        "id": "DRSsPRjiwSqu"
      },
      "outputs": [],
      "source": [
        "sns.barplot(\n",
        "    x=yearly_mean_price[\"year\"],\n",
        "    y=yearly_mean_price[\"sellingprice\"],\n",
        "    palette=\"rocket_r\",\n",
        ")\n",
        "\n",
        "plt.title(\"Mean Selling Price by Year\")\n",
        "plt.xlabel(\"Year\")\n",
        "plt.ylabel(\"Mean Selling Price\")\n",
        "plt.xticks(rotation=90)\n",
        "\n",
        "plt.show()"
      ]
    },
    {
      "cell_type": "code",
      "execution_count": null,
      "metadata": {
        "id": "Nulr1WwTm0B8"
      },
      "outputs": [],
      "source": [
        "filtered_df = car_prices[car_prices[\"color\"] != \"—\"]\n",
        "\n",
        "palette = \"Set3\"\n",
        "\n",
        "plt.figure(figsize=(9, 5))\n",
        "sns.barplot(\n",
        "    filtered_df,\n",
        "    x=\"color\",\n",
        "    y=\"sellingprice\",\n",
        "    palette='rocket_r',\n",
        ")\n",
        "plt.xlabel(\"Color Category\")\n",
        "plt.ylabel(\"Selling Price\")\n",
        "plt.title(\"Selling Price by Color\")\n",
        "\n",
        "plt.xticks(rotation=90)\n",
        "\n",
        "plt.show()"
      ]
    },
    {
      "cell_type": "code",
      "execution_count": null,
      "metadata": {
        "id": "7hYG4bI6uptR"
      },
      "outputs": [],
      "source": []
    },
    {
      "cell_type": "code",
      "execution_count": null,
      "metadata": {
        "id": "0K0scsuIrUwZ"
      },
      "outputs": [],
      "source": [
        "y = car_prices['sellingprice']\n",
        "feature_columns = ['year', 'make', 'model', 'odometer', 'condition', 'body']\n",
        "X = car_prices[feature_columns]\n",
        "\n",
        "numerical_features = ['year', 'odometer', 'condition',]\n",
        "categorical_features = ['make', 'model', 'body']\n",
        "X_train, X_test, y_train, y_test = train_test_split(X, y, test_size=0.2, random_state=42)\n",
        "\n",
        "preprocessor = ColumnTransformer(\n",
        "    transformers=[\n",
        "        ('num', 'passthrough', numerical_features),\n",
        "        ('cat', OneHotEncoder(handle_unknown='ignore'), categorical_features)\n",
        "    ])\n",
        "\n",
        "tree_pipeline = Pipeline([\n",
        "    ('preprocessor', preprocessor),\n",
        "    ('regressor', DecisionTreeRegressor(random_state=42))\n",
        "])\n",
        "\n",
        "X_train, X_test, y_train, y_test = train_test_split(X, y, test_size=0.2, random_state=42)\n",
        "\n",
        "tree_pipeline.fit(X_train, y_train)\n",
        "\n",
        "y_pred = tree_pipeline.predict(X_test)\n",
        "print(y_pred)\n",
        "print(f'Decision Tree MSE: {mean_squared_error(y_test, y_pred)}')\n",
        "print(f'Decision Tree R^2 score: {r2_score(y_test, y_pred)}')"
      ]
    },
    {
      "cell_type": "code",
      "execution_count": null,
      "metadata": {
        "id": "deee25a7"
      },
      "outputs": [],
      "source": [
        "plt.figure(figsize=(10, 6))\n",
        "plt.scatter(y_test, y_pred, alpha=0.5)\n",
        "plt.xlabel(\"Actual Selling Price\")\n",
        "plt.ylabel(\"Predicted Selling Price\")\n",
        "plt.title(\"Actual vs. Predicted Selling Prices (Decision Tree Regressor)\")\n",
        "plt.grid(True)\n",
        "plt.plot([y_test.min(), y_test.max()], [y_test.min(), y_test.max()], 'k--', lw=2) # Add a diagonal line for reference\n",
        "plt.show()"
      ]
    },
    {
      "cell_type": "code",
      "execution_count": null,
      "metadata": {
        "id": "346c6ea7"
      },
      "outputs": [],
      "source": [
        "y = car_prices['sellingprice']\n",
        "feature_columns = ['year', 'make', 'model', 'odometer', 'condition', 'body']\n",
        "X = car_prices[feature_columns]\n",
        "\n",
        "categorical_features = ['make', 'model','body']\n",
        "numerical_features = ['year', 'odometer', 'condition']\n",
        "\n",
        "preprocessor = ColumnTransformer(\n",
        "    transformers=[\n",
        "        ('num', 'passthrough', numerical_features),\n",
        "        ('cat', OneHotEncoder(handle_unknown='ignore'), categorical_features)\n",
        "    ])\n",
        "\n",
        "model = Pipeline([\n",
        "    ('preprocessor', preprocessor),\n",
        "    ('regressor', LinearRegression())\n",
        "])\n",
        "\n",
        "X_train, X_test, y_train, y_test = train_test_split(X, y, test_size=0.1, random_state=100000)\n",
        "\n",
        "model.fit(X_train, y_train)\n",
        "\n",
        "y_pred = model.predict(X_test)\n",
        "print(y_pred)\n",
        "print(f'Linear Regression MSE: {mean_squared_error(y_test, y_pred)}')\n",
        "print(f'Linear Regression R^2 score: {r2_score(y_test, y_pred)}')"
      ]
    },
    {
      "cell_type": "code",
      "execution_count": null,
      "metadata": {
        "id": "CEOXUFfCt-aA"
      },
      "outputs": [],
      "source": []
    },
    {
      "cell_type": "code",
      "execution_count": null,
      "metadata": {
        "id": "80b161e7"
      },
      "outputs": [],
      "source": [
        "plt.figure(figsize=(10, 6))\n",
        "plt.scatter(y_test, y_pred, alpha=0.5)\n",
        "plt.xlabel(\"Actual Selling Price\")\n",
        "plt.ylabel(\"Predicted Selling Price\")\n",
        "plt.title(\"Actual vs. Predicted Selling Prices (Linear Regression)\")\n",
        "plt.grid(True)\n",
        "plt.plot([y_test.min(), y_test.max()], [y_test.min(), y_test.max()], 'k--', lw=2) # Add a diagonal line for reference\n",
        "plt.show()"
      ]
    },
    {
      "cell_type": "code",
      "execution_count": null,
      "metadata": {
        "id": "e4f19954"
      },
      "outputs": [],
      "source": [
        "residuals = y_test - y_pred\n",
        "\n",
        "plt.figure(figsize=(10, 6))\n",
        "plt.scatter(y_pred, residuals, alpha=0.5)\n",
        "plt.xlabel(\"Predicted Selling Price\")\n",
        "plt.ylabel(\"Residuals\")\n",
        "plt.title(\"Residual Plot (Decision Tree Regressor)\")\n",
        "plt.hlines(0, y_pred.min(), y_pred.max(), colors='k', linestyles='dashed')\n",
        "plt.grid(True)\n",
        "plt.show()"
      ]
    },
    {
      "cell_type": "code",
      "execution_count": null,
      "metadata": {
        "id": "iEZ495ZOvYFt"
      },
      "outputs": [],
      "source": [
        "y = car_prices['sellingprice']\n",
        "X = car_prices.drop(['sellingprice', 'vin', 'saledate'], axis=1)\n",
        "\n",
        "numerical_features = X.select_dtypes(include=['int64', 'float64']).columns.tolist()\n",
        "categorical_features = X.select_dtypes(include=['object']).columns.tolist()\n",
        "\n",
        "preprocessor = ColumnTransformer(\n",
        "    transformers=[\n",
        "        ('num', StandardScaler(), numerical_features),\n",
        "        ('cat', OneHotEncoder(handle_unknown='ignore'), categorical_features)\n",
        "    ])\n",
        "\n",
        "model_pipeline = Pipeline([\n",
        "    ('preprocessor', preprocessor),\n",
        "    ('regressor', RandomForestRegressor(n_estimators=50, max_depth=10, random_state=42))\n",
        "])\n",
        "\n",
        "X_train, X_test, y_train, y_test = train_test_split(X, y, test_size=0.2, random_state=42)\n",
        "\n",
        "model_pipeline.fit(X_train, y_train)\n",
        "\n",
        "y_pred = model_pipeline.predict(X_test)\n",
        "print(y_pred)\n",
        "print(f'Random Forest MSE: {mean_squared_error(y_test, y_pred)}')\n",
        "print(f'Random Forest R^2 score: {r2_score(y_test, y_pred)}')"
      ]
    },
    {
      "cell_type": "code",
      "execution_count": null,
      "metadata": {
        "id": "Y0KcSgzKzCu2"
      },
      "outputs": [],
      "source": []
    },
    {
      "cell_type": "code",
      "execution_count": null,
      "metadata": {
        "id": "fe2168d9"
      },
      "outputs": [],
      "source": [
        "residuals_rf = y_test - y_pred\n",
        "\n",
        "plt.figure(figsize=(10, 6))\n",
        "plt.scatter(y_pred, residuals_rf, alpha=0.5)\n",
        "plt.xlabel(\"Predicted Selling Price\")\n",
        "plt.ylabel(\"Residuals\")\n",
        "plt.title(\"Residual Plot (Random Forest Regressor)\")\n",
        "plt.hlines(0, y_pred.min(), y_pred.max(), colors='k', linestyles='dashed')\n",
        "plt.grid(True)\n",
        "plt.show()"
      ]
    },
    {
      "cell_type": "code",
      "execution_count": null,
      "metadata": {
        "id": "a26ce6c3"
      },
      "outputs": [],
      "source": []
    }
  ],
  "metadata": {
    "accelerator": "GPU",
    "colab": {
      "gpuType": "T4",
      "provenance": []
    },
    "kernelspec": {
      "display_name": "Python 3",
      "name": "python3"
    },
    "language_info": {
      "name": "python"
    }
  },
  "nbformat": 4,
  "nbformat_minor": 0
}